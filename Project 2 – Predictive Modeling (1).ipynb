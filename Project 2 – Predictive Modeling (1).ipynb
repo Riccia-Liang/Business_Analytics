{
 "cells": [
  {
   "cell_type": "markdown",
   "id": "7355f335-d2c0-40e8-9836-7c9837a3bfe2",
   "metadata": {},
   "source": [
    "# Class Project 2 – Predictive Modeling\n",
    "\n",
    "The Consumer Financial Protection Bureau (CFPB) is a U.S. government agency that makes sure financial companies treat their customers fairly. Their website allows customers of financial services to file complaints against financial companies and banks against unfair treatment if these companies are unable to resolve complaints to the customer’s satisfaction.\n",
    " \n",
    "When customers choose to complain to the CFPB, financial companies incur additional costs to resolve such complaints.\n",
    "\n",
    "On receipt, the CFPB routes complaints to the financial companies, who generally respond to the consumer within 15 days.  Once a response is provided, one of two things can happen:\n",
    "\n",
    "1.\tIn most cases, consumers accept the response or remediation offered by the financial companies, \n",
    "\n",
    "2.\tIn other cases, they choose to dispute the resolution offered by the company.  (flagged in the 'Consumer disputed?' field).  In these situations, the bank has to perform additional investigations, and possibly offer further relief to the customers.  As a result, the cost of dealing with disputes can be high.\n",
    "\n",
    "The original dataset for this project has over 2 million anonymized recent records, and covers 6000+ financial providers of all varieties.  It can be downloaded following the instructions at https://www.consumerfinance.gov/data-research/consumer-complaints/.  The website also provides additional information on the data, including the data dictionary.  \n",
    "\n",
    "For this project, we will use only the data till 2017, and only for the top 5 banks in the US.  In order to make sure we are all working off the same data, we will use the file complaints_25Nov21.csv available in Jupyterhub under the **shared/ folder**.\n"
   ]
  },
  {
   "cell_type": "markdown",
   "id": "a8ed120a-551d-4eed-a0be-7ad66dfc22d6",
   "metadata": {
    "tags": []
   },
   "source": [
    "The cost structure:\n",
    "\n",
    "1.\tOn average, it costs the banks $100 to resolve, respond to and close a complaint that is not disputed.\n",
    "\n",
    "2.\tOn the other hand, it costs banks an extra $500 to resolve a complaint if it has been disputed.  (This $500 is on top of the $100 they have already spent.)\n",
    "\n",
    "3.\tExtra diligence: If the banks know in advance which complaints will be disputed, they can perform “extra diligence” during the first round of addressing the complaint with a view to avoiding eventual disputes.  Performing extra diligence costs $90 per complaint, and provides a guarantee that the customer will not dispute the complaint.  But performing the extra diligence is wasted money if the customer would not have disputed the complaint.\n",
    "\n",
    "You are required to create a model that can help the banks identify complaints that will end in a dispute.  The goal is to minimize total financial costs, and if the banks can identify future disputes they can avoid the larger costs by performing the cheaper extra diligence in advance.\n",
    "\n",
    "Hint: Think about Calculating Total Cost in Dollars    \n",
    "•\tThe moment a complaint enters the CFPB’s system, there is $100 cost to resolve it.  This applies to every complaint.\n",
    "\n",
    "•\tAfter that, if a complaint’s resolution is disputed by the customer, an additional \\$500 has to be spent (for a total cost for such cases to be $600).\n",
    "\n",
    "•\tBut the bank can intervene in advance by spending an extra $90 for extra diligence, and that can make sure the complaint’s resolution is not disputed. \n",
    "\n",
    "While we can’t prevent complaints from coming to the CFPB, we can reduce total costs by identifying the complaints that are likely to be disputed, and doing the extra due diligence for them.  This extra due diligence will cost us an extra \\$90 per complaint, but save us the additional \\$500 to resolve the complaint after the dispute.  But obviously, the bank would not want to spend this extra money on complaints that would not have been disputed anyway.\n",
    "\n",
    "Your task is to create a predictive model that can help the banks keep their total complaint related costs low.  \n",
    "\n",
    "Follow the instructions below and answer the multiple choice questions that follow."
   ]
  },
  {
   "cell_type": "markdown",
   "id": "b28691c1-f821-4908-9226-6081c8d29b4c",
   "metadata": {},
   "source": [
    "## 1. \tExplore the data, familiarize yourself with the fields and perform some EDA."
   ]
  },
  {
   "cell_type": "code",
   "execution_count": 28,
   "id": "e1303a01-d225-4985-a0d9-120a14685725",
   "metadata": {
    "tags": []
   },
   "outputs": [],
   "source": [
    "import pandas as pd\n",
    "import numpy as np\n",
    "import seaborn as sns\n",
    "import os\n",
    "import matplotlib.pyplot as plt\n",
    "import phik\n",
    "from IPython.display import Markdown as md"
   ]
  },
  {
   "cell_type": "code",
   "execution_count": 29,
   "id": "db188149-b7f5-45f8-8138-a305a8beafd4",
   "metadata": {
    "tags": []
   },
   "outputs": [
    {
     "data": {
      "text/html": [
       "<div>\n",
       "<style scoped>\n",
       "    .dataframe tbody tr th:only-of-type {\n",
       "        vertical-align: middle;\n",
       "    }\n",
       "\n",
       "    .dataframe tbody tr th {\n",
       "        vertical-align: top;\n",
       "    }\n",
       "\n",
       "    .dataframe thead th {\n",
       "        text-align: right;\n",
       "    }\n",
       "</style>\n",
       "<table border=\"1\" class=\"dataframe\">\n",
       "  <thead>\n",
       "    <tr style=\"text-align: right;\">\n",
       "      <th></th>\n",
       "      <th>Date received</th>\n",
       "      <th>Product</th>\n",
       "      <th>Sub-product</th>\n",
       "      <th>Issue</th>\n",
       "      <th>Sub-issue</th>\n",
       "      <th>Consumer complaint narrative</th>\n",
       "      <th>Company public response</th>\n",
       "      <th>Company</th>\n",
       "      <th>State</th>\n",
       "      <th>ZIP code</th>\n",
       "      <th>Tags</th>\n",
       "      <th>Consumer consent provided?</th>\n",
       "      <th>Submitted via</th>\n",
       "      <th>Date sent to company</th>\n",
       "      <th>Company response to consumer</th>\n",
       "      <th>Timely response?</th>\n",
       "      <th>Consumer disputed?</th>\n",
       "      <th>Complaint ID</th>\n",
       "    </tr>\n",
       "  </thead>\n",
       "  <tbody>\n",
       "    <tr>\n",
       "      <th>0</th>\n",
       "      <td>2016-10-26</td>\n",
       "      <td>Money transfers</td>\n",
       "      <td>International money transfer</td>\n",
       "      <td>Other transaction issues</td>\n",
       "      <td>NaN</td>\n",
       "      <td>To whom it concerns, I would like to file a fo...</td>\n",
       "      <td>Company has responded to the consumer and the ...</td>\n",
       "      <td>CITIBANK, N.A.</td>\n",
       "      <td>NaN</td>\n",
       "      <td>NaN</td>\n",
       "      <td>NaN</td>\n",
       "      <td>Consent provided</td>\n",
       "      <td>Web</td>\n",
       "      <td>2016-10-29</td>\n",
       "      <td>Closed with explanation</td>\n",
       "      <td>Yes</td>\n",
       "      <td>No</td>\n",
       "      <td>2180490</td>\n",
       "    </tr>\n",
       "    <tr>\n",
       "      <th>1</th>\n",
       "      <td>2015-03-27</td>\n",
       "      <td>Bank account or service</td>\n",
       "      <td>Other bank product/service</td>\n",
       "      <td>Account opening, closing, or management</td>\n",
       "      <td>NaN</td>\n",
       "      <td>My name is XXXX XXXX XXXX and huband name is X...</td>\n",
       "      <td>Company chooses not to provide a public response</td>\n",
       "      <td>CITIBANK, N.A.</td>\n",
       "      <td>PA</td>\n",
       "      <td>151XX</td>\n",
       "      <td>Older American</td>\n",
       "      <td>Consent provided</td>\n",
       "      <td>Web</td>\n",
       "      <td>2015-03-27</td>\n",
       "      <td>Closed with explanation</td>\n",
       "      <td>Yes</td>\n",
       "      <td>No</td>\n",
       "      <td>1305453</td>\n",
       "    </tr>\n",
       "    <tr>\n",
       "      <th>2</th>\n",
       "      <td>2015-04-20</td>\n",
       "      <td>Bank account or service</td>\n",
       "      <td>Other bank product/service</td>\n",
       "      <td>Making/receiving payments, sending money</td>\n",
       "      <td>NaN</td>\n",
       "      <td>XXXX 2015 : I called to make a payment on XXXX...</td>\n",
       "      <td>Company chooses not to provide a public response</td>\n",
       "      <td>U.S. BANCORP</td>\n",
       "      <td>PA</td>\n",
       "      <td>152XX</td>\n",
       "      <td>NaN</td>\n",
       "      <td>Consent provided</td>\n",
       "      <td>Web</td>\n",
       "      <td>2015-04-22</td>\n",
       "      <td>Closed with monetary relief</td>\n",
       "      <td>Yes</td>\n",
       "      <td>No</td>\n",
       "      <td>1337613</td>\n",
       "    </tr>\n",
       "    <tr>\n",
       "      <th>3</th>\n",
       "      <td>2013-04-29</td>\n",
       "      <td>Mortgage</td>\n",
       "      <td>Conventional fixed mortgage</td>\n",
       "      <td>Application, originator, mortgage broker</td>\n",
       "      <td>NaN</td>\n",
       "      <td>NaN</td>\n",
       "      <td>NaN</td>\n",
       "      <td>JPMORGAN CHASE &amp; CO.</td>\n",
       "      <td>VA</td>\n",
       "      <td>22406</td>\n",
       "      <td>Servicemember</td>\n",
       "      <td>NaN</td>\n",
       "      <td>Phone</td>\n",
       "      <td>2013-04-30</td>\n",
       "      <td>Closed with explanation</td>\n",
       "      <td>Yes</td>\n",
       "      <td>Yes</td>\n",
       "      <td>393900</td>\n",
       "    </tr>\n",
       "    <tr>\n",
       "      <th>4</th>\n",
       "      <td>2013-05-29</td>\n",
       "      <td>Mortgage</td>\n",
       "      <td>Other mortgage</td>\n",
       "      <td>Loan modification,collection,foreclosure</td>\n",
       "      <td>NaN</td>\n",
       "      <td>NaN</td>\n",
       "      <td>NaN</td>\n",
       "      <td>BANK OF AMERICA, NATIONAL ASSOCIATION</td>\n",
       "      <td>GA</td>\n",
       "      <td>30044</td>\n",
       "      <td>NaN</td>\n",
       "      <td>NaN</td>\n",
       "      <td>Referral</td>\n",
       "      <td>2013-05-31</td>\n",
       "      <td>Closed with explanation</td>\n",
       "      <td>Yes</td>\n",
       "      <td>No</td>\n",
       "      <td>418647</td>\n",
       "    </tr>\n",
       "    <tr>\n",
       "      <th>...</th>\n",
       "      <td>...</td>\n",
       "      <td>...</td>\n",
       "      <td>...</td>\n",
       "      <td>...</td>\n",
       "      <td>...</td>\n",
       "      <td>...</td>\n",
       "      <td>...</td>\n",
       "      <td>...</td>\n",
       "      <td>...</td>\n",
       "      <td>...</td>\n",
       "      <td>...</td>\n",
       "      <td>...</td>\n",
       "      <td>...</td>\n",
       "      <td>...</td>\n",
       "      <td>...</td>\n",
       "      <td>...</td>\n",
       "      <td>...</td>\n",
       "      <td>...</td>\n",
       "    </tr>\n",
       "    <tr>\n",
       "      <th>207255</th>\n",
       "      <td>2015-05-24</td>\n",
       "      <td>Debt collection</td>\n",
       "      <td>Credit card</td>\n",
       "      <td>Taking/threatening an illegal action</td>\n",
       "      <td>Sued w/o proper notification of suit</td>\n",
       "      <td>NaN</td>\n",
       "      <td>NaN</td>\n",
       "      <td>JPMORGAN CHASE &amp; CO.</td>\n",
       "      <td>FL</td>\n",
       "      <td>33133</td>\n",
       "      <td>NaN</td>\n",
       "      <td>Consent not provided</td>\n",
       "      <td>Web</td>\n",
       "      <td>2015-05-24</td>\n",
       "      <td>Closed with explanation</td>\n",
       "      <td>Yes</td>\n",
       "      <td>No</td>\n",
       "      <td>1390395</td>\n",
       "    </tr>\n",
       "    <tr>\n",
       "      <th>207256</th>\n",
       "      <td>2012-01-10</td>\n",
       "      <td>Mortgage</td>\n",
       "      <td>Conventional fixed mortgage</td>\n",
       "      <td>Loan modification,collection,foreclosure</td>\n",
       "      <td>NaN</td>\n",
       "      <td>NaN</td>\n",
       "      <td>NaN</td>\n",
       "      <td>JPMORGAN CHASE &amp; CO.</td>\n",
       "      <td>NY</td>\n",
       "      <td>10312</td>\n",
       "      <td>NaN</td>\n",
       "      <td>NaN</td>\n",
       "      <td>Referral</td>\n",
       "      <td>2012-01-11</td>\n",
       "      <td>Closed without relief</td>\n",
       "      <td>Yes</td>\n",
       "      <td>Yes</td>\n",
       "      <td>12192</td>\n",
       "    </tr>\n",
       "    <tr>\n",
       "      <th>207257</th>\n",
       "      <td>2012-07-17</td>\n",
       "      <td>Student loan</td>\n",
       "      <td>Non-federal student loan</td>\n",
       "      <td>Repaying your loan</td>\n",
       "      <td>NaN</td>\n",
       "      <td>NaN</td>\n",
       "      <td>NaN</td>\n",
       "      <td>BANK OF AMERICA, NATIONAL ASSOCIATION</td>\n",
       "      <td>NH</td>\n",
       "      <td>032XX</td>\n",
       "      <td>NaN</td>\n",
       "      <td>NaN</td>\n",
       "      <td>Web</td>\n",
       "      <td>2012-07-18</td>\n",
       "      <td>Closed with explanation</td>\n",
       "      <td>Yes</td>\n",
       "      <td>No</td>\n",
       "      <td>118351</td>\n",
       "    </tr>\n",
       "    <tr>\n",
       "      <th>207258</th>\n",
       "      <td>2016-09-29</td>\n",
       "      <td>Bank account or service</td>\n",
       "      <td>Checking account</td>\n",
       "      <td>Account opening, closing, or management</td>\n",
       "      <td>NaN</td>\n",
       "      <td>Near the end of XXXX 2016 I opened a Citigold ...</td>\n",
       "      <td>Company has responded to the consumer and the ...</td>\n",
       "      <td>CITIBANK, N.A.</td>\n",
       "      <td>CA</td>\n",
       "      <td>900XX</td>\n",
       "      <td>NaN</td>\n",
       "      <td>Consent provided</td>\n",
       "      <td>Web</td>\n",
       "      <td>2016-09-29</td>\n",
       "      <td>Closed with non-monetary relief</td>\n",
       "      <td>Yes</td>\n",
       "      <td>No</td>\n",
       "      <td>2138969</td>\n",
       "    </tr>\n",
       "    <tr>\n",
       "      <th>207259</th>\n",
       "      <td>2015-04-29</td>\n",
       "      <td>Mortgage</td>\n",
       "      <td>Conventional fixed mortgage</td>\n",
       "      <td>Loan modification,collection,foreclosure</td>\n",
       "      <td>NaN</td>\n",
       "      <td>My father died in XX/XX/XXXX. Left me his only...</td>\n",
       "      <td>NaN</td>\n",
       "      <td>CITIBANK, N.A.</td>\n",
       "      <td>OK</td>\n",
       "      <td>740XX</td>\n",
       "      <td>NaN</td>\n",
       "      <td>Consent provided</td>\n",
       "      <td>Web</td>\n",
       "      <td>2015-04-29</td>\n",
       "      <td>Closed with explanation</td>\n",
       "      <td>Yes</td>\n",
       "      <td>No</td>\n",
       "      <td>1352738</td>\n",
       "    </tr>\n",
       "  </tbody>\n",
       "</table>\n",
       "<p>207260 rows × 18 columns</p>\n",
       "</div>"
      ],
      "text/plain": [
       "       Date received                  Product                   Sub-product  \\\n",
       "0         2016-10-26          Money transfers  International money transfer   \n",
       "1         2015-03-27  Bank account or service    Other bank product/service   \n",
       "2         2015-04-20  Bank account or service    Other bank product/service   \n",
       "3         2013-04-29                 Mortgage   Conventional fixed mortgage   \n",
       "4         2013-05-29                 Mortgage                Other mortgage   \n",
       "...              ...                      ...                           ...   \n",
       "207255    2015-05-24          Debt collection                   Credit card   \n",
       "207256    2012-01-10                 Mortgage   Conventional fixed mortgage   \n",
       "207257    2012-07-17             Student loan      Non-federal student loan   \n",
       "207258    2016-09-29  Bank account or service              Checking account   \n",
       "207259    2015-04-29                 Mortgage   Conventional fixed mortgage   \n",
       "\n",
       "                                           Issue  \\\n",
       "0                       Other transaction issues   \n",
       "1        Account opening, closing, or management   \n",
       "2       Making/receiving payments, sending money   \n",
       "3       Application, originator, mortgage broker   \n",
       "4       Loan modification,collection,foreclosure   \n",
       "...                                          ...   \n",
       "207255      Taking/threatening an illegal action   \n",
       "207256  Loan modification,collection,foreclosure   \n",
       "207257                        Repaying your loan   \n",
       "207258   Account opening, closing, or management   \n",
       "207259  Loan modification,collection,foreclosure   \n",
       "\n",
       "                                   Sub-issue  \\\n",
       "0                                        NaN   \n",
       "1                                        NaN   \n",
       "2                                        NaN   \n",
       "3                                        NaN   \n",
       "4                                        NaN   \n",
       "...                                      ...   \n",
       "207255  Sued w/o proper notification of suit   \n",
       "207256                                   NaN   \n",
       "207257                                   NaN   \n",
       "207258                                   NaN   \n",
       "207259                                   NaN   \n",
       "\n",
       "                             Consumer complaint narrative  \\\n",
       "0       To whom it concerns, I would like to file a fo...   \n",
       "1       My name is XXXX XXXX XXXX and huband name is X...   \n",
       "2       XXXX 2015 : I called to make a payment on XXXX...   \n",
       "3                                                     NaN   \n",
       "4                                                     NaN   \n",
       "...                                                   ...   \n",
       "207255                                                NaN   \n",
       "207256                                                NaN   \n",
       "207257                                                NaN   \n",
       "207258  Near the end of XXXX 2016 I opened a Citigold ...   \n",
       "207259  My father died in XX/XX/XXXX. Left me his only...   \n",
       "\n",
       "                                  Company public response  \\\n",
       "0       Company has responded to the consumer and the ...   \n",
       "1        Company chooses not to provide a public response   \n",
       "2        Company chooses not to provide a public response   \n",
       "3                                                     NaN   \n",
       "4                                                     NaN   \n",
       "...                                                   ...   \n",
       "207255                                                NaN   \n",
       "207256                                                NaN   \n",
       "207257                                                NaN   \n",
       "207258  Company has responded to the consumer and the ...   \n",
       "207259                                                NaN   \n",
       "\n",
       "                                      Company State ZIP code            Tags  \\\n",
       "0                              CITIBANK, N.A.   NaN      NaN             NaN   \n",
       "1                              CITIBANK, N.A.    PA    151XX  Older American   \n",
       "2                                U.S. BANCORP    PA    152XX             NaN   \n",
       "3                        JPMORGAN CHASE & CO.    VA    22406   Servicemember   \n",
       "4       BANK OF AMERICA, NATIONAL ASSOCIATION    GA    30044             NaN   \n",
       "...                                       ...   ...      ...             ...   \n",
       "207255                   JPMORGAN CHASE & CO.    FL    33133             NaN   \n",
       "207256                   JPMORGAN CHASE & CO.    NY    10312             NaN   \n",
       "207257  BANK OF AMERICA, NATIONAL ASSOCIATION    NH    032XX             NaN   \n",
       "207258                         CITIBANK, N.A.    CA    900XX             NaN   \n",
       "207259                         CITIBANK, N.A.    OK    740XX             NaN   \n",
       "\n",
       "       Consumer consent provided? Submitted via Date sent to company  \\\n",
       "0                Consent provided           Web           2016-10-29   \n",
       "1                Consent provided           Web           2015-03-27   \n",
       "2                Consent provided           Web           2015-04-22   \n",
       "3                             NaN         Phone           2013-04-30   \n",
       "4                             NaN      Referral           2013-05-31   \n",
       "...                           ...           ...                  ...   \n",
       "207255       Consent not provided           Web           2015-05-24   \n",
       "207256                        NaN      Referral           2012-01-11   \n",
       "207257                        NaN           Web           2012-07-18   \n",
       "207258           Consent provided           Web           2016-09-29   \n",
       "207259           Consent provided           Web           2015-04-29   \n",
       "\n",
       "           Company response to consumer Timely response? Consumer disputed?  \\\n",
       "0               Closed with explanation              Yes                 No   \n",
       "1               Closed with explanation              Yes                 No   \n",
       "2           Closed with monetary relief              Yes                 No   \n",
       "3               Closed with explanation              Yes                Yes   \n",
       "4               Closed with explanation              Yes                 No   \n",
       "...                                 ...              ...                ...   \n",
       "207255          Closed with explanation              Yes                 No   \n",
       "207256            Closed without relief              Yes                Yes   \n",
       "207257          Closed with explanation              Yes                 No   \n",
       "207258  Closed with non-monetary relief              Yes                 No   \n",
       "207259          Closed with explanation              Yes                 No   \n",
       "\n",
       "        Complaint ID  \n",
       "0            2180490  \n",
       "1            1305453  \n",
       "2            1337613  \n",
       "3             393900  \n",
       "4             418647  \n",
       "...              ...  \n",
       "207255       1390395  \n",
       "207256         12192  \n",
       "207257        118351  \n",
       "207258       2138969  \n",
       "207259       1352738  \n",
       "\n",
       "[207260 rows x 18 columns]"
      ]
     },
     "execution_count": 29,
     "metadata": {},
     "output_type": "execute_result"
    }
   ],
   "source": [
    "df = pd.read_csv(\"shared/complaints_25Nov21.csv\")\n",
    "df"
   ]
  },
  {
   "cell_type": "code",
   "execution_count": 30,
   "id": "9ebcb77f-3c57-4355-9d0f-5875520017e6",
   "metadata": {
    "tags": []
   },
   "outputs": [
    {
     "name": "stdout",
     "output_type": "stream",
     "text": [
      "<class 'pandas.core.frame.DataFrame'>\n",
      "RangeIndex: 207260 entries, 0 to 207259\n",
      "Data columns (total 18 columns):\n",
      " #   Column                        Non-Null Count   Dtype \n",
      "---  ------                        --------------   ----- \n",
      " 0   Date received                 207260 non-null  object\n",
      " 1   Product                       207260 non-null  object\n",
      " 2   Sub-product                   164245 non-null  object\n",
      " 3   Issue                         207260 non-null  object\n",
      " 4   Sub-issue                     10347 non-null   object\n",
      " 5   Consumer complaint narrative  29391 non-null   object\n",
      " 6   Company public response       58458 non-null   object\n",
      " 7   Company                       207260 non-null  object\n",
      " 8   State                         205066 non-null  object\n",
      " 9   ZIP code                      197974 non-null  object\n",
      " 10  Tags                          28265 non-null   object\n",
      " 11  Consumer consent provided?    51313 non-null   object\n",
      " 12  Submitted via                 207260 non-null  object\n",
      " 13  Date sent to company          207260 non-null  object\n",
      " 14  Company response to consumer  207260 non-null  object\n",
      " 15  Timely response?              207260 non-null  object\n",
      " 16  Consumer disputed?            207260 non-null  object\n",
      " 17  Complaint ID                  207260 non-null  int64 \n",
      "dtypes: int64(1), object(17)\n",
      "memory usage: 28.5+ MB\n"
     ]
    }
   ],
   "source": [
    "df.info()"
   ]
  },
  {
   "cell_type": "code",
   "execution_count": 31,
   "id": "f0164cc4-25c2-421a-a48e-701556624a5c",
   "metadata": {
    "tags": []
   },
   "outputs": [
    {
     "data": {
      "text/plain": [
       "Sub-issue                       196913\n",
       "Tags                            178995\n",
       "Consumer complaint narrative    177869\n",
       "Consumer consent provided?      155947\n",
       "Company public response         148802\n",
       "Sub-product                      43015\n",
       "ZIP code                          9286\n",
       "State                             2194\n",
       "Date sent to company                 0\n",
       "Consumer disputed?                   0\n",
       "Timely response?                     0\n",
       "Company response to consumer         0\n",
       "Date received                        0\n",
       "Submitted via                        0\n",
       "Product                              0\n",
       "Company                              0\n",
       "Issue                                0\n",
       "Complaint ID                         0\n",
       "dtype: int64"
      ]
     },
     "execution_count": 31,
     "metadata": {},
     "output_type": "execute_result"
    }
   ],
   "source": [
    "# This identifies columns with missing values in each column.\n",
    "missing_data = df.isnull().sum().sort_values(ascending = False)\n",
    "missing_data"
   ]
  },
  {
   "cell_type": "code",
   "execution_count": 32,
   "id": "b1f2141a-41a3-47f7-9770-19a62a46cbc0",
   "metadata": {
    "tags": []
   },
   "outputs": [],
   "source": [
    "df = df.fillna('missing')"
   ]
  },
  {
   "cell_type": "code",
   "execution_count": 33,
   "id": "71d49292-69cc-49bf-96c4-0c1d5742db0e",
   "metadata": {
    "tags": []
   },
   "outputs": [
    {
     "data": {
      "text/plain": [
       "Date received                   0\n",
       "Product                         0\n",
       "Consumer disputed?              0\n",
       "Timely response?                0\n",
       "Company response to consumer    0\n",
       "Date sent to company            0\n",
       "Submitted via                   0\n",
       "Consumer consent provided?      0\n",
       "Tags                            0\n",
       "ZIP code                        0\n",
       "State                           0\n",
       "Company                         0\n",
       "Company public response         0\n",
       "Consumer complaint narrative    0\n",
       "Sub-issue                       0\n",
       "Issue                           0\n",
       "Sub-product                     0\n",
       "Complaint ID                    0\n",
       "dtype: int64"
      ]
     },
     "execution_count": 33,
     "metadata": {},
     "output_type": "execute_result"
    }
   ],
   "source": [
    "# This identifies columns with missing values in each column.\n",
    "missing_data = df.isnull().sum().sort_values(ascending = False)\n",
    "missing_data"
   ]
  },
  {
   "cell_type": "markdown",
   "id": "c07f416c-30a9-41c9-8805-b789ecc9b70f",
   "metadata": {},
   "source": [
    "## 2.\tSet your X (predictor) and y (predicted) variables. \n",
    "a.\tUse only the below variables as your predictors.  Ignore the other variables in the dataset.\n",
    "'Product', 'Sub-product', 'Issue', 'State', 'Tags', 'Submitted via',  'Company response to consumer', 'Timely response?'\n",
    "\n",
    "b.\tUse 'Consumer disputed?' as your y-variable.  Be sure to convert your y-variable to 0s and 1s so your model can use it."
   ]
  },
  {
   "cell_type": "code",
   "execution_count": 34,
   "id": "b0111d1c-d598-414c-bc3b-323b3ec7e50c",
   "metadata": {
    "tags": []
   },
   "outputs": [
    {
     "data": {
      "text/plain": [
       "array([0, 0, 0, ..., 0, 0, 0])"
      ]
     },
     "execution_count": 34,
     "metadata": {},
     "output_type": "execute_result"
    }
   ],
   "source": [
    "from sklearn import preprocessing\n",
    "X = df.loc[:, ['Product', 'Sub-product', 'Issue', 'State', 'Tags', 'Submitted via', 'Company response to consumer', 'Timely response?']]\n",
    "X = pd.get_dummies(X)\n",
    "le = preprocessing.LabelEncoder()\n",
    "# Encode categorical variables\n",
    "y = le.fit_transform(df['Consumer disputed?'])\n",
    "y"
   ]
  },
  {
   "cell_type": "markdown",
   "id": "7ea05f8c-3054-47a5-beea-0806c6be1601",
   "metadata": {
    "tags": []
   },
   "source": [
    "## 3.\tSplit your data into a test and train set.  Use an 80/20 train-test split, and random_state=123 for the train-test split. "
   ]
  },
  {
   "cell_type": "code",
   "execution_count": 35,
   "id": "020a468a-2d68-46d6-93a0-624533e0e861",
   "metadata": {
    "tags": []
   },
   "outputs": [],
   "source": [
    "from sklearn.model_selection import train_test_split\n",
    "X_train, X_test, y_train, y_test = train_test_split(X, y, test_size=0.2, random_state = 123)"
   ]
  },
  {
   "cell_type": "code",
   "execution_count": 36,
   "id": "2fd9ab07-c471-4811-9d19-70c71d167520",
   "metadata": {
    "tags": []
   },
   "outputs": [
    {
     "name": "stdout",
     "output_type": "stream",
     "text": [
      "(165808, 234)\n",
      "(165808,)\n",
      "(41452, 234)\n",
      "(41452,)\n"
     ]
    }
   ],
   "source": [
    "# We check the shape of our X and y \n",
    "\n",
    "print(X_train.shape)\n",
    "print(y_train.shape)\n",
    "print(X_test.shape)\n",
    "print(y_test.shape)"
   ]
  },
  {
   "cell_type": "markdown",
   "id": "e5c91407-0f66-43cd-a91c-b48a79b70207",
   "metadata": {},
   "source": [
    "## 4.\tCheck what proportion of complaints in your training dataset are disputed.  If this proportion is less than 30%, use random undersampling with random_state = 123 to balance your dataset. "
   ]
  },
  {
   "cell_type": "code",
   "execution_count": 37,
   "id": "b8b94f83-00ae-41de-ba60-64c9b384f257",
   "metadata": {
    "tags": []
   },
   "outputs": [
    {
     "name": "stdout",
     "output_type": "stream",
     "text": [
      "0.21684719675769565\n"
     ]
    },
    {
     "data": {
      "text/plain": [
       "0.5"
      ]
     },
     "execution_count": 37,
     "metadata": {},
     "output_type": "execute_result"
    }
   ],
   "source": [
    "from imblearn.under_sampling import RandomUnderSampler\n",
    "dispute_proportion = y_train.mean()\n",
    "print(y_train.mean())\n",
    "\n",
    "if dispute_proportion < 0.3:\n",
    "    # Apply random undersampling\n",
    "    rus = RandomUnderSampler(random_state=123)\n",
    "    X_train, y_train = rus.fit_resample(X, y)\n",
    "y_train.mean()\n"
   ]
  },
  {
   "cell_type": "code",
   "execution_count": null,
   "id": "5536541d-45a2-4837-ae50-42cde0f62bd4",
   "metadata": {},
   "outputs": [],
   "source": []
  },
  {
   "cell_type": "code",
   "execution_count": 38,
   "id": "5ff41364-e86f-40fa-a19c-571f74edcb44",
   "metadata": {
    "tags": []
   },
   "outputs": [
    {
     "name": "stdout",
     "output_type": "stream",
     "text": [
      "(207260, 234)\n",
      "(89806, 234)\n",
      "(41452, 234)\n"
     ]
    }
   ],
   "source": [
    "print(X.shape)\n",
    "print(X_train.shape)\n",
    "print(X_test.shape)"
   ]
  },
  {
   "cell_type": "code",
   "execution_count": 39,
   "id": "9df5b232-82b1-4329-aea9-a82bf97e8750",
   "metadata": {
    "tags": []
   },
   "outputs": [
    {
     "data": {
      "text/plain": [
       "0    44903\n",
       "1    44903\n",
       "Name: count, dtype: int64"
      ]
     },
     "execution_count": 39,
     "metadata": {},
     "output_type": "execute_result"
    }
   ],
   "source": [
    "# Let us look at what y_train looks like, and the value_counts()\n",
    "pd.DataFrame(y_train).value_counts()"
   ]
  },
  {
   "cell_type": "code",
   "execution_count": 40,
   "id": "08333deb-1899-4f75-9023-2927cdcec9c9",
   "metadata": {
    "tags": []
   },
   "outputs": [
    {
     "name": "stderr",
     "output_type": "stream",
     "text": [
      "/opt/conda/envs/mggy8413/lib/python3.10/site-packages/xgboost/sklearn.py:1395: UserWarning: `use_label_encoder` is deprecated in 1.7.0.\n",
      "  warnings.warn(\"`use_label_encoder` is deprecated in 1.7.0.\")\n"
     ]
    },
    {
     "name": "stdout",
     "output_type": "stream",
     "text": [
      "              precision    recall  f1-score   support\n",
      "\n",
      "           0       0.85      0.53      0.66     32504\n",
      "           1       0.28      0.65      0.39      8948\n",
      "\n",
      "    accuracy                           0.56     41452\n",
      "   macro avg       0.56      0.59      0.52     41452\n",
      "weighted avg       0.73      0.56      0.60     41452\n",
      "\n"
     ]
    },
    {
     "data": {
      "image/png": "[encoded data removed]",
      "text/plain": [
       "<Figure size 640x480 with 2 Axes>"
      ]
     },
     "metadata": {},
     "output_type": "display_data"
    }
   ],
   "source": [
    "# Fit the model\n",
    "from xgboost import XGBClassifier\n",
    "from sklearn.metrics import classification_report, ConfusionMatrixDisplay\n",
    "\n",
    "model_xgb = XGBClassifier(use_label_encoder=False, objective= 'binary:logistic',random_state = 123)\n",
    "#model_xgb = XGBClassifier(random_state = 123)\n",
    "model_xgb.fit(X_train, y_train)\n",
    "\n",
    "# Perform predictions, and store the results in a variable called 'pred'\n",
    "pred = model_xgb.predict(X_test)\n",
    "\n",
    "# Check the classification report and the confusion matrix\n",
    "print(classification_report(y_true = y_test, y_pred = pred))\n",
    "ConfusionMatrixDisplay.from_estimator(model_xgb, X_test, y_test);"
   ]
  },
  {
   "cell_type": "markdown",
   "id": "8858d235-b04b-45ee-8a49-6bb4cbe0cbd3",
   "metadata": {},
   "source": [
    "### Calculate actual cost without model"
   ]
  },
  {
   "cell_type": "code",
   "execution_count": 41,
   "id": "7aedd1e8-3904-44c4-88a4-84384d7e27f6",
   "metadata": {
    "tags": []
   },
   "outputs": [
    {
     "data": {
      "text/plain": [
       "8619200"
      ]
     },
     "execution_count": 41,
     "metadata": {},
     "output_type": "execute_result"
    }
   ],
   "source": [
    "# Calculate the number of disputed and non-disputed complaints\n",
    "number_disputed = y_test.sum()\n",
    "number_non_disputed = len(y_test) - number_disputed\n",
    "\n",
    "# Calculate the total cost\n",
    "total_cost = (number_disputed * 600) + (number_non_disputed * 100)\n",
    "total_cost"
   ]
  },
  {
   "cell_type": "markdown",
   "id": "7c11dd48-d3f3-433f-8723-19e13b606eec",
   "metadata": {},
   "source": [
    "### Based on model results, what would be the total cost to the banks of dealing with the complaints in the test set?\n",
    "- If the model predicts the complaint will be disputed (prediction 1), the bank spends \\$90 on extra diligence.\n",
    "- If the model predicts the complaint will not be disputed (prediction 0), the cost is \\$100.\n",
    "- If the model incorrectly predicts a non-disputed complaint as disputed (false positive), the bank spends an unnecessary \\$90.\n",
    "- If the model incorrectly predicts a disputed complaint as non-disputed (false negative), the bank incurs the full \\$600 cost."
   ]
  },
  {
   "cell_type": "code",
   "execution_count": 42,
   "id": "51607eb2-e50b-4109-baad-d1e6152f6087",
   "metadata": {
    "tags": []
   },
   "outputs": [
    {
     "name": "stdout",
     "output_type": "stream",
     "text": [
      "TP+FP: 20995\n",
      "FN: 3104\n",
      "TN: 17353\n"
     ]
    },
    {
     "data": {
      "text/plain": [
       "7586750"
      ]
     },
     "execution_count": 42,
     "metadata": {},
     "output_type": "execute_result"
    }
   ],
   "source": [
    "# Predictions from the model\n",
    "predictions = pred  # This should be the predictions array from the model\n",
    "\n",
    "# Calculate costs based on the predictions\n",
    "predicted_disputed = predictions == 1\n",
    "predicted_non_disputed = predictions == 0\n",
    "# Actual values\n",
    "actual_disputed = y_test == 1\n",
    "actual_non_disputed = y_test == 0\n",
    "\n",
    "# True Positive + False Posotive: Model predicts disputed, diligence cost applies\n",
    "print('TP+FP:',sum((predictions == 1) & (y_test == 1))+sum((predictions == 1) & (y_test == 0)))\n",
    "diligence_cost = (sum((predictions == 1) & (y_test == 1))+sum((predictions == 1) & (y_test == 0))) * 190\n",
    "\n",
    "# False Negative: Model predicts non-disputed, but it is actually disputed\n",
    "fn_cost = sum((predictions == 0) & (y_test == 1)) * 600\n",
    "print('FN:', sum((predictions == 0) & (y_test == 1)))\n",
    "\n",
    "# True Negative: Model predicts non-disputed, and it is actually non-disputed\n",
    "# Standard cost applies\n",
    "tn_cost = sum((predictions == 0) & (y_test == 0)) * 100\n",
    "print('TN:',sum((predictions == 0) & (y_test == 0)) )\n",
    "\n",
    "# Calculate the total cost\n",
    "total_cost_model = diligence_cost + fn_cost + tn_cost\n",
    "total_cost_model"
   ]
  },
  {
   "cell_type": "markdown",
   "id": "2fa96c90-26ac-4fb5-9a7a-d9591d16c55c",
   "metadata": {},
   "source": [
    "### Change results by varying threshold"
   ]
  },
  {
   "cell_type": "code",
   "execution_count": 43,
   "id": "aa814c04-89f0-410a-98dc-ede77575ce32",
   "metadata": {
    "tags": []
   },
   "outputs": [
    {
     "data": {
      "text/plain": [
       "array([[0.34525168, 0.6547483 ],\n",
       "       [0.55318874, 0.44681126],\n",
       "       [0.53836995, 0.46163005],\n",
       "       [0.82460964, 0.17539038],\n",
       "       [0.6356379 , 0.36436215],\n",
       "       [0.4250173 , 0.5749827 ],\n",
       "       [0.45215088, 0.5478491 ],\n",
       "       [0.46450043, 0.5354996 ],\n",
       "       [0.44814914, 0.55185086],\n",
       "       [0.46196222, 0.5380378 ]], dtype=float32)"
      ]
     },
     "execution_count": 43,
     "metadata": {},
     "output_type": "execute_result"
    }
   ],
   "source": [
    "# Look at how the probabilities look for the first 10 observations\n",
    "# The first column is class 0, and the second column is class 1\n",
    "\n",
    "model_xgb.predict_proba(X_test)[:10]"
   ]
  },
  {
   "cell_type": "code",
   "execution_count": 44,
   "id": "eefb3338-7d18-4f76-a435-4dd16248fe6f",
   "metadata": {
    "tags": []
   },
   "outputs": [
    {
     "data": {
      "text/plain": [
       "array([0, 0, 0, 0, 0, 0, 0, 1, 0, 0])"
      ]
     },
     "execution_count": 44,
     "metadata": {},
     "output_type": "execute_result"
    }
   ],
   "source": [
    "y_test[:10]"
   ]
  },
  {
   "cell_type": "code",
   "execution_count": 45,
   "id": "3e13689c-5957-4f6e-9ebe-80208ff2d323",
   "metadata": {
    "tags": []
   },
   "outputs": [
    {
     "data": {
      "text/plain": [
       "array([[0.345, 0.655],\n",
       "       [0.553, 0.447],\n",
       "       [0.538, 0.462],\n",
       "       [0.825, 0.175],\n",
       "       [0.636, 0.364],\n",
       "       [0.425, 0.575],\n",
       "       [0.452, 0.548],\n",
       "       [0.465, 0.535],\n",
       "       [0.448, 0.552],\n",
       "       [0.462, 0.538]], dtype=float32)"
      ]
     },
     "execution_count": 45,
     "metadata": {},
     "output_type": "execute_result"
    }
   ],
   "source": [
    "# Let us round the above as to make it a bit easier to read...\n",
    "# same thing as prior cell, just presentation\n",
    "np.round(model_xgb.predict_proba(X_test)[:10], 3)"
   ]
  },
  {
   "cell_type": "code",
   "execution_count": 46,
   "id": "3489bc0d-d371-4cbf-b76f-fce7cf229231",
   "metadata": {
    "tags": []
   },
   "outputs": [
    {
     "data": {
      "text/plain": [
       "array([1, 0, 0, 0, 0, 1, 1, 1, 1, 1])"
      ]
     },
     "execution_count": 46,
     "metadata": {},
     "output_type": "execute_result"
    }
   ],
   "source": [
    "# Now see what the actual prediction is for the first 10 items\n",
    "# You can see the model has picked the most probable item\n",
    "# for identifying which category it should be assigned.\n",
    "#\n",
    "# We can vary the threshold to change the predictions.\n",
    "# We do this next\n",
    "\n",
    "model_xgb.predict(X_test)[:10]"
   ]
  },
  {
   "cell_type": "code",
   "execution_count": 47,
   "id": "6f772504-ecf0-4127-8166-905d077d3bc4",
   "metadata": {
    "tags": []
   },
   "outputs": [
    {
     "name": "stdout",
     "output_type": "stream",
     "text": [
      "Confusion Matrix : \n",
      " [[11614 20890]\n",
      " [ 1612  7336]]\n",
      "Test accuracy =  0.4571552639197144\n",
      "              precision    recall  f1-score   support\n",
      "\n",
      "           0       0.88      0.36      0.51     32504\n",
      "           1       0.26      0.82      0.39      8948\n",
      "\n",
      "    accuracy                           0.46     41452\n",
      "   macro avg       0.57      0.59      0.45     41452\n",
      "weighted avg       0.74      0.46      0.48     41452\n",
      "\n",
      "TP+FP: 28226\n",
      "FN: 1612\n",
      "TN: 11614\n",
      "total_cost_model =  7491540\n"
     ]
    },
    {
     "data": {
      "image/png": "[encoded data removed]",
      "text/plain": [
       "<Figure size 640x480 with 2 Axes>"
      ]
     },
     "metadata": {},
     "output_type": "display_data"
    }
   ],
   "source": [
    "import numpy as np\n",
    "from sklearn.metrics import accuracy_score\n",
    "from sklearn.metrics import accuracy_score, confusion_matrix, ConfusionMatrixDisplay\n",
    "\n",
    "# Set threshold for identifying class 1\n",
    "threshold = 0.46\n",
    "\n",
    "# Create predictions.  Note that predictions give us probabilities, not classes!\n",
    "pred_prob = model_xgb.predict_proba(X_test)\n",
    "\n",
    "# We drop the probabilities for class 0, and keep just the second column\n",
    "pred_prob = pred_prob[:,1]\n",
    "\n",
    "# Convert probabilities to 1s and 0s based on threshold\n",
    "pred = (pred_prob>threshold).astype(int)\n",
    "\n",
    "# confusion matrix\n",
    "cm = confusion_matrix(y_test, pred)\n",
    "print (\"Confusion Matrix : \\n\", cm)\n",
    "ConfusionMatrixDisplay(confusion_matrix=cm).plot();\n",
    "\n",
    "# accuracy score of the model\n",
    "print('Test accuracy = ', accuracy_score(y_test, pred))\n",
    "print(classification_report(y_true = y_test, y_pred = pred,))\n",
    "\n",
    "# Predictions from the model\n",
    "predictions = pred  # This should be the predictions array from the model\n",
    "\n",
    "# Calculate costs based on the predictions\n",
    "predicted_disputed = predictions == 1\n",
    "predicted_non_disputed = predictions == 0\n",
    "# Actual values\n",
    "actual_disputed = y_test == 1\n",
    "actual_non_disputed = y_test == 0\n",
    "\n",
    "# True Positive + False Posotive: Model predicts disputed, diligence cost applies\n",
    "print('TP+FP:',sum((predictions == 1) & (y_test == 1))+sum((predictions == 1) & (y_test == 0)))\n",
    "diligence_cost = (sum((predictions == 1) & (y_test == 1))+sum((predictions == 1) & (y_test == 0))) * 190\n",
    "\n",
    "# False Negative: Model predicts non-disputed, but it is actually disputed\n",
    "fn_cost = sum((predictions == 0) & (y_test == 1)) * 600\n",
    "print('FN:', sum((predictions == 0) & (y_test == 1)))\n",
    "\n",
    "# True Negative: Model predicts non-disputed, and it is actually non-disputed\n",
    "# Standard cost applies\n",
    "tn_cost = sum((predictions == 0) & (y_test == 0)) * 100\n",
    "print('TN:',sum((predictions == 0) & (y_test == 0)) )\n",
    "\n",
    "# Calculate the total cost\n",
    "total_cost_model = diligence_cost + fn_cost + tn_cost\n",
    "total_cost_model\n",
    "\n",
    "print('total_cost_model = ', total_cost_model)"
   ]
  },
  {
   "cell_type": "code",
   "execution_count": null,
   "id": "313965a0-90cf-4d0f-9697-30f9c7d8647a",
   "metadata": {},
   "outputs": [],
   "source": []
  },
  {
   "cell_type": "code",
   "execution_count": null,
   "id": "f3af9df9-0323-47ef-84fe-bc34bf8953fd",
   "metadata": {},
   "outputs": [],
   "source": []
  },
  {
   "cell_type": "code",
   "execution_count": null,
   "id": "70afe798-d9f5-4d0e-b3a2-f57f4eeaccc3",
   "metadata": {},
   "outputs": [],
   "source": []
  }
 ],
 "metadata": {
  "kernelspec": {
   "display_name": "Python [conda env:mggy8413]",
   "language": "python",
   "name": "conda-env-mggy8413-py"
  },
  "language_info": {
   "codemirror_mode": {
    "name": "ipython",
    "version": 3
   },
   "file_extension": ".py",
   "mimetype": "text/x-python",
   "name": "python",
   "nbconvert_exporter": "python",
   "pygments_lexer": "ipython3",
   "version": "3.10.12"
  }
 },
 "nbformat": 4,
 "nbformat_minor": 5
}
